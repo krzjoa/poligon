{
 "cells": [
  {
   "cell_type": "markdown",
   "metadata": {},
   "source": [
    "## Theano - introduction"
   ]
  },
  {
   "cell_type": "code",
   "execution_count": 3,
   "metadata": {
    "collapsed": true
   },
   "outputs": [],
   "source": [
    "# importy\n",
    "import theano\n",
    "import theano.tensor as T\n",
    "import numpy as np"
   ]
  },
  {
   "cell_type": "code",
   "execution_count": 4,
   "metadata": {
    "collapsed": true
   },
   "outputs": [],
   "source": [
    "# Najmniejszy działający przykład\n",
    "x = T.fvector('x')\n",
    "W = theano.shared(np.asarray([0.2, 0.7]), 'W')\n",
    "y = (x * W).sum()"
   ]
  },
  {
   "cell_type": "code",
   "execution_count": 5,
   "metadata": {
    "collapsed": true
   },
   "outputs": [],
   "source": [
    "f = theano.function([x], y)"
   ]
  },
  {
   "cell_type": "code",
   "execution_count": 7,
   "metadata": {
    "collapsed": false
   },
   "outputs": [
    {
     "name": "stdout",
     "output_type": "stream",
     "text": [
      "0.9\n"
     ]
    }
   ],
   "source": [
    "output = f([1.0, 1.0])\n",
    "print output"
   ]
  },
  {
   "cell_type": "code",
   "execution_count": 8,
   "metadata": {
    "collapsed": true
   },
   "outputs": [],
   "source": [
    "# Minimalny przykład treningu sieci w Theano\n",
    "x =T.fvector('x')\n",
    "target = T.fscalar('target')\n",
    "\n",
    "W = theano.shared(np.asarray([0.2, 0.7]), 'W')\n",
    "\n",
    "# Funkcja w Theano: operacje na wektorach i skalarach\n",
    "y = (x * W).sum()"
   ]
  },
  {
   "cell_type": "code",
   "execution_count": 9,
   "metadata": {
    "collapsed": false
   },
   "outputs": [
    {
     "name": "stdout",
     "output_type": "stream",
     "text": [
      "0.9\n",
      "8.54\n",
      "13.124\n",
      "15.8744\n",
      "17.52464\n",
      "18.514784\n",
      "19.1088704\n",
      "19.46532224\n",
      "19.679193344\n",
      "19.8075160064\n"
     ]
    }
   ],
   "source": [
    "cost = T.sqr(target - y)\n",
    "gradients =  T.grad(cost, [W])\n",
    "W_updated = W - (0.1 * gradients[0])\n",
    "updates = [(W, W_updated)]\n",
    "\n",
    "\n",
    "# Update'y to lista krotek. Każda z nich zawiera dwie wartości:\n",
    "# Zmienną updateowaną, oraz wartość, jaką zmienna ma przyjąć po update'cie\n",
    "\n",
    "f = theano.function([x, target], y, updates=updates)\n",
    "\n",
    "for i in xrange(10):\n",
    "    output = f([1.0, 1.0], 20.0)\n",
    "    print output"
   ]
  },
  {
   "cell_type": "code",
   "execution_count": null,
   "metadata": {
    "collapsed": true
   },
   "outputs": [],
   "source": []
  }
 ],
 "metadata": {
  "kernelspec": {
   "display_name": "Python 2",
   "language": "python",
   "name": "python2"
  },
  "language_info": {
   "codemirror_mode": {
    "name": "ipython",
    "version": 2
   },
   "file_extension": ".py",
   "mimetype": "text/x-python",
   "name": "python",
   "nbconvert_exporter": "python",
   "pygments_lexer": "ipython2",
   "version": "2.7.12"
  }
 },
 "nbformat": 4,
 "nbformat_minor": 2
}
