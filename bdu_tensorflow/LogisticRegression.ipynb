{
 "cells": [
  {
   "cell_type": "markdown",
   "metadata": {},
   "source": [
    "# Logistic Regression"
   ]
  },
  {
   "cell_type": "code",
   "execution_count": 2,
   "metadata": {
    "collapsed": true
   },
   "outputs": [],
   "source": [
    "import tensorflow as tf\n",
    "import numpy as np\n",
    "import matplotlib.pyplot as plt\n",
    "import pandas as pd\n",
    "from sklearn.datasets import load_iris\n",
    "from sklearn.model_selection import train_test_split\n",
    "import time"
   ]
  },
  {
   "cell_type": "code",
   "execution_count": 6,
   "metadata": {
    "collapsed": false
   },
   "outputs": [],
   "source": [
    "# Ładowanie zbioru danych\n",
    "iris = load_iris()\n",
    "iris_X, iris_y = iris.data[:-1, :], iris.target[:-1]\n",
    "# Funkcja get_dummies() daje nam \n",
    "iris_y = pd.get_dummies(iris_y).values\n",
    "\n",
    "# Podział na zbiór testowy i treningowy\n",
    "trainX, testX, trainY, testY = train_test_split(iris_X, iris_y, test_size=0.33, random_state=42)\n"
   ]
  },
  {
   "cell_type": "code",
   "execution_count": 7,
   "metadata": {
    "collapsed": true
   },
   "outputs": [],
   "source": [
    "# Liczba ficzerów\n",
    "n_features = trainX.shape[1]\n",
    "\n",
    "# Liczba mozliwych klas\n",
    "n_labels = trainY.shape[1]\n",
    "\n",
    "# Placeholdery. Będą przyjmować wejście o stałej liczbie ficzerów, \n",
    "# lecz o nieznanej liczbie przykładów\n",
    "\n",
    "X =tf.placeholder(tf.float32, [None, n_features])\n",
    "yTruth = tf.placeholder(tf.float32, [None, n_labels])"
   ]
  },
  {
   "cell_type": "code",
   "execution_count": 8,
   "metadata": {
    "collapsed": true
   },
   "outputs": [],
   "source": [
    "# Zmienne - wagi modelu i bias\n",
    "W = tf.Variable(tf.zeros([4, 3])) # Liczba ficzerów i liczba klas\n",
    "b = tf.Variable(tf.zeros([3])) # Liczba klas\n",
    "\n",
    "# Inicjalizujemy rozkładem normalnym początkowe wartości\n",
    "weights = tf.Variable(tf.random_normal([n_features, n_labels],\n",
    "                                      mean=0,\n",
    "                                      stddev=0.01,\n",
    "                                      name='weights'))\n",
    "\n",
    "bias = tf.Variable(tf.random_normal([1, n_labels],\n",
    "                                   mean=0,\n",
    "                                   stddev=0.01,\n",
    "                                   name='bias'))"
   ]
  },
  {
   "cell_type": "code",
   "execution_count": 9,
   "metadata": {
    "collapsed": true
   },
   "outputs": [],
   "source": [
    "# Budowanie modelu regresji logistycznej\n",
    "# Są to kolejno 3 operacje:\n",
    "# 1. \"Regersja liniowa\" tj. iloczyn skalarny\n",
    "apply_weights_OP = tf.matmul(X, weights, name='apply_weights')\n",
    "# 2. Dodanie biasu\n",
    "add_bias_OP = tf.add(apply_weights_OP, bias, name=\"add_bias\")\n",
    "# 3. Zaaplikowanie funkcji sigmoid\n",
    "activation_OP = tf.nn.sigmoid(add_bias_OP, name=\"activation\")\n"
   ]
  },
  {
   "cell_type": "markdown",
   "metadata": {},
   "source": [
    "## Funkcja kosztu"
   ]
  },
  {
   "cell_type": "code",
   "execution_count": 11,
   "metadata": {
    "collapsed": false
   },
   "outputs": [],
   "source": [
    "# Liczba epok\n",
    "n_epochs = 700\n",
    "learning_rate = tf.train.exponential_decay(learning_rate=0.0008,\n",
    "                                          global_step=1,\n",
    "                                          decay_steps=trainX.shape[0],\n",
    "                                          decay_rate=0.95,\n",
    "                                          staircase=True) # Sprawdzić, co to\n",
    "\n",
    "\n",
    "# Funkcja kosztu\n",
    "cost_OP = tf.nn.l2_loss(activation_OP-yTruth, name=\"mse\")\n",
    "\n",
    "# Optimajzer\n",
    "training_OP = tf.train.GradientDescentOptimizer(learning_rate).minimize(cost_OP)"
   ]
  },
  {
   "cell_type": "code",
   "execution_count": 12,
   "metadata": {
    "collapsed": true
   },
   "outputs": [],
   "source": [
    "# Tworzę nową sesję\n",
    "session = tf.Session()\n",
    "\n",
    "init_OP = tf.global_variables_initializer()\n",
    "\n",
    "# inicjalizacja zmiennych\n",
    "session.run(init_OP)"
   ]
  },
  {
   "cell_type": "code",
   "execution_count": 20,
   "metadata": {
    "collapsed": false
   },
   "outputs": [],
   "source": [
    "# Definiujemy dodatkowe operacje aby móc śledzić przebieg treningu\n",
    "# argmax(activation_OP, 1) returns the label with the most probability\n",
    "# argmax(yGold, 1) is the correct label\n",
    "correct_predictions_OP = tf.equal(tf.argmax(activation_OP,1),tf.argmax(yTruth,1))\n",
    "\n",
    "# If every false prediction is 0 and every true prediction is 1, the average returns us the accuracy\n",
    "accuracy_OP = tf.reduce_mean(tf.cast(correct_predictions_OP, \"float\"))\n",
    "\n",
    "# Summary op for regression output\n",
    "activation_summary_OP = tf.summary.histogram(\"output\", activation_OP)\n",
    "\n",
    "# Summary op for accuracy\n",
    "accuracy_summary_OP = tf.summary.scalar(\"accuracy\", accuracy_OP)\n",
    "\n",
    "# Summary op for cost\n",
    "cost_summary_OP = tf.summary.scalar(\"cost\", cost_OP)\n",
    "\n",
    "# Summary ops to check how variables (W, b) are updating after each iteration\n",
    "weightSummary = tf.summary.histogram(\"weights\", weights.eval(session=session))\n",
    "biasSummary = tf.summary.histogram(\"biases\", bias.eval(session=session))\n",
    "\n",
    "# Merge all summaries\n",
    "merged = tf.summary.merge([activation_summary_OP, accuracy_summary_OP, cost_summary_OP, weightSummary, biasSummary])\n",
    "\n",
    "# Summary writer\n",
    "writer = tf.summary.FileWriter(\"summary_logs\", session.graph)"
   ]
  },
  {
   "cell_type": "code",
   "execution_count": 21,
   "metadata": {
    "collapsed": false
   },
   "outputs": [
    {
     "name": "stdout",
     "output_type": "stream",
     "text": [
      "step 0, training accuracy 0.909091, cost 14.8549, change in cost 14.8549\n",
      "step 10, training accuracy 0.909091, cost 14.8229, change in cost 0.0319614\n",
      "step 20, training accuracy 0.909091, cost 14.7915, change in cost 0.0314722\n",
      "step 30, training accuracy 0.909091, cost 14.7605, change in cost 0.0309973\n",
      "step 40, training accuracy 0.909091, cost 14.7299, change in cost 0.0305347\n",
      "step 50, training accuracy 0.909091, cost 14.6999, change in cost 0.0300837\n",
      "step 60, training accuracy 0.909091, cost 14.6702, change in cost 0.0296469\n",
      "step 70, training accuracy 0.909091, cost 14.641, change in cost 0.0292215\n",
      "step 80, training accuracy 0.909091, cost 14.6122, change in cost 0.0288038\n",
      "step 90, training accuracy 0.909091, cost 14.5838, change in cost 0.0283995\n",
      "step 100, training accuracy 0.909091, cost 14.5558, change in cost 0.0280056\n",
      "step 110, training accuracy 0.909091, cost 14.5282, change in cost 0.0276213\n",
      "step 120, training accuracy 0.909091, cost 14.5009, change in cost 0.0272446\n",
      "step 130, training accuracy 0.909091, cost 14.474, change in cost 0.0268755\n",
      "step 140, training accuracy 0.919192, cost 14.4475, change in cost 0.0265207\n",
      "step 150, training accuracy 0.919192, cost 14.4214, change in cost 0.0261707\n",
      "step 160, training accuracy 0.919192, cost 14.3955, change in cost 0.0258274\n",
      "step 170, training accuracy 0.919192, cost 14.37, change in cost 0.0254927\n",
      "step 180, training accuracy 0.919192, cost 14.3449, change in cost 0.0251694\n",
      "step 190, training accuracy 0.919192, cost 14.32, change in cost 0.024847\n",
      "step 200, training accuracy 0.919192, cost 14.2955, change in cost 0.0245352\n",
      "step 210, training accuracy 0.919192, cost 14.2713, change in cost 0.024229\n",
      "step 220, training accuracy 0.929293, cost 14.2473, change in cost 0.0239334\n",
      "step 230, training accuracy 0.929293, cost 14.2237, change in cost 0.0236378\n",
      "step 240, training accuracy 0.929293, cost 14.2003, change in cost 0.0233488\n",
      "step 250, training accuracy 0.929293, cost 14.1773, change in cost 0.0230694\n",
      "step 260, training accuracy 0.929293, cost 14.1545, change in cost 0.0227947\n",
      "step 270, training accuracy 0.929293, cost 14.1319, change in cost 0.0225248\n",
      "step 280, training accuracy 0.929293, cost 14.1097, change in cost 0.0222597\n",
      "step 290, training accuracy 0.939394, cost 14.0877, change in cost 0.0220022\n",
      "step 300, training accuracy 0.939394, cost 14.0659, change in cost 0.0217466\n",
      "step 310, training accuracy 0.939394, cost 14.0444, change in cost 0.0214968\n",
      "step 320, training accuracy 0.939394, cost 14.0232, change in cost 0.0212526\n",
      "step 330, training accuracy 0.939394, cost 14.0022, change in cost 0.0210114\n",
      "step 340, training accuracy 0.939394, cost 13.9814, change in cost 0.0207787\n",
      "step 350, training accuracy 0.939394, cost 13.9608, change in cost 0.0205479\n",
      "step 360, training accuracy 0.939394, cost 13.9405, change in cost 0.020319\n",
      "step 370, training accuracy 0.939394, cost 13.9204, change in cost 0.0200949\n",
      "step 380, training accuracy 0.939394, cost 13.9006, change in cost 0.0198784\n",
      "step 390, training accuracy 0.939394, cost 13.8809, change in cost 0.0196619\n",
      "step 400, training accuracy 0.939394, cost 13.8614, change in cost 0.019453\n",
      "step 410, training accuracy 0.939394, cost 13.8422, change in cost 0.0192451\n",
      "step 420, training accuracy 0.939394, cost 13.8232, change in cost 0.0190401\n",
      "step 430, training accuracy 0.939394, cost 13.8043, change in cost 0.0188408\n",
      "step 440, training accuracy 0.939394, cost 13.7857, change in cost 0.0186434\n",
      "step 450, training accuracy 0.939394, cost 13.7672, change in cost 0.0184488\n",
      "step 460, training accuracy 0.939394, cost 13.749, change in cost 0.018261\n",
      "step 470, training accuracy 0.939394, cost 13.7309, change in cost 0.0180731\n",
      "step 480, training accuracy 0.939394, cost 13.713, change in cost 0.0178871\n",
      "step 490, training accuracy 0.939394, cost 13.6953, change in cost 0.0177078\n",
      "step 500, training accuracy 0.939394, cost 13.6778, change in cost 0.0175304\n",
      "step 510, training accuracy 0.939394, cost 13.6604, change in cost 0.017354\n",
      "step 520, training accuracy 0.939394, cost 13.6432, change in cost 0.0171824\n",
      "step 530, training accuracy 0.939394, cost 13.6262, change in cost 0.0170135\n",
      "step 540, training accuracy 0.939394, cost 13.6094, change in cost 0.0168447\n",
      "step 550, training accuracy 0.939394, cost 13.5927, change in cost 0.0166817\n",
      "step 560, training accuracy 0.939394, cost 13.5762, change in cost 0.0165195\n",
      "step 570, training accuracy 0.939394, cost 13.5598, change in cost 0.0163612\n",
      "step 580, training accuracy 0.939394, cost 13.5436, change in cost 0.0162029\n",
      "step 590, training accuracy 0.939394, cost 13.5276, change in cost 0.0160503\n",
      "step 600, training accuracy 0.939394, cost 13.5117, change in cost 0.0158968\n",
      "step 610, training accuracy 0.939394, cost 13.4959, change in cost 0.015748\n",
      "step 620, training accuracy 0.939394, cost 13.4803, change in cost 0.0155993\n",
      "step 630, training accuracy 0.939394, cost 13.4649, change in cost 0.0154543\n",
      "step 640, training accuracy 0.939394, cost 13.4495, change in cost 0.0153131\n",
      "step 650, training accuracy 0.939394, cost 13.4344, change in cost 0.0151701\n",
      "step 660, training accuracy 0.939394, cost 13.4193, change in cost 0.0150309\n",
      "step 670, training accuracy 0.939394, cost 13.4044, change in cost 0.0148945\n",
      "step 680, training accuracy 0.939394, cost 13.3897, change in cost 0.0147581\n",
      "step 690, training accuracy 0.939394, cost 13.3751, change in cost 0.0146275\n",
      "final accuracy on test set: 1.0\n"
     ]
    }
   ],
   "source": [
    "# Uczenie klasyfikatora\n",
    "\n",
    "cost = 0\n",
    "diff =1\n",
    "epoch_values = []\n",
    "accuracy_values = []\n",
    "cost_values = []\n",
    "\n",
    "# Trening\n",
    "for i in range(n_epochs):\n",
    "    if i > 1 and diff < .0001:\n",
    "        print \"Zmiana\", diff\n",
    "        break\n",
    "    else:\n",
    "        step = session.run(training_OP, feed_dict={X: trainX,\n",
    "                                                  yTruth: trainY})\n",
    "        # Co 10. epokę\n",
    "        if i % 10 == 0:\n",
    "               # Add epoch to epoch_values\n",
    "            epoch_values.append(i)\n",
    "            # Generate accuracy stats on test data\n",
    "            train_accuracy, newCost = session.run([accuracy_OP, cost_OP], feed_dict={X: trainX, yTruth: trainY})\n",
    "            # Add accuracy to live graphing variable\n",
    "            accuracy_values.append(train_accuracy)\n",
    "            # Add cost to live graphing variable\n",
    "            cost_values.append(newCost)\n",
    "            # Re-assign values for variables\n",
    "            diff = abs(newCost - cost)\n",
    "            cost = newCost\n",
    "\n",
    "            #generate print statements\n",
    "            print(\"step %d, training accuracy %g, cost %g, change in cost %g\"%(i, train_accuracy, newCost, diff))\n",
    "\n",
    "\n",
    "# How well do we perform on held-out test data?\n",
    "print(\"final accuracy on test set: %s\" %str(session.run(accuracy_OP, \n",
    "                                                     feed_dict={X: testX, \n",
    "                                                                yTruth: testY})))"
   ]
  },
  {
   "cell_type": "code",
   "execution_count": null,
   "metadata": {
    "collapsed": true
   },
   "outputs": [],
   "source": []
  }
 ],
 "metadata": {
  "kernelspec": {
   "display_name": "Python 2",
   "language": "python",
   "name": "python2"
  },
  "language_info": {
   "codemirror_mode": {
    "name": "ipython",
    "version": 2
   },
   "file_extension": ".py",
   "mimetype": "text/x-python",
   "name": "python",
   "nbconvert_exporter": "python",
   "pygments_lexer": "ipython2",
   "version": "2.7.12"
  }
 },
 "nbformat": 4,
 "nbformat_minor": 2
}
