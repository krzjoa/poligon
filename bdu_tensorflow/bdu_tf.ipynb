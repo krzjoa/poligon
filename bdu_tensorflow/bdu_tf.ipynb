{
 "cells": [
  {
   "cell_type": "markdown",
   "metadata": {
    "collapsed": true,
    "deletable": true,
    "editable": true
   },
   "source": [
    "# Tensorflow"
   ]
  },
  {
   "cell_type": "code",
   "execution_count": 1,
   "metadata": {
    "collapsed": true
   },
   "outputs": [],
   "source": [
    "import tensorflow as tf"
   ]
  },
  {
   "cell_type": "code",
   "execution_count": 3,
   "metadata": {
    "collapsed": false
   },
   "outputs": [],
   "source": [
    "# Stałe\n",
    "a = tf.constant([2])\n",
    "b = tf.constant([3])\n",
    "\n",
    "c = tf.add(a, b)"
   ]
  },
  {
   "cell_type": "code",
   "execution_count": 4,
   "metadata": {
    "collapsed": true
   },
   "outputs": [],
   "source": [
    "# Żeby wykonać jakąkolwiek operację, należy zainicjalizować sesję\n",
    "session = tf.Session()"
   ]
  },
  {
   "cell_type": "code",
   "execution_count": 5,
   "metadata": {
    "collapsed": false
   },
   "outputs": [
    {
     "name": "stdout",
     "output_type": "stream",
     "text": [
      "[5]\n"
     ]
    }
   ],
   "source": [
    "result = session.run(c)\n",
    "print result"
   ]
  },
  {
   "cell_type": "code",
   "execution_count": 6,
   "metadata": {
    "collapsed": true
   },
   "outputs": [],
   "source": [
    "# Zwolnienie zasobów następuje poprzeze zamknięcie sesji\n",
    "session.close()"
   ]
  },
  {
   "cell_type": "code",
   "execution_count": 7,
   "metadata": {
    "collapsed": false
   },
   "outputs": [
    {
     "name": "stdout",
     "output_type": "stream",
     "text": [
      "[5]\n"
     ]
    }
   ],
   "source": [
    "# Aby automatycznie zamknąć sesję po wykonaniu wszystkich operacji,\n",
    "# możemy użyć bloku with\n",
    "with tf.Session() as session:\n",
    "    result = session.run(c)\n",
    "    print result"
   ]
  },
  {
   "cell_type": "code",
   "execution_count": 9,
   "metadata": {
    "collapsed": false
   },
   "outputs": [
    {
     "name": "stdout",
     "output_type": "stream",
     "text": [
      "[2]\n",
      "[5 6 2]\n",
      "[[1 2 3]\n",
      " [2 3 4]\n",
      " [3 4 5]]\n",
      "[[[ 1  2  3]\n",
      "  [ 2  3  4]\n",
      "  [ 3  4  5]]\n",
      "\n",
      " [[ 4  5  6]\n",
      "  [ 5  6  7]\n",
      "  [ 6  7  8]]\n",
      "\n",
      " [[ 7  8  9]\n",
      "  [ 8  9 10]\n",
      "  [ 9 10 11]]]\n"
     ]
    }
   ],
   "source": [
    "# Różne wymiary \n",
    "scalar = tf.constant([2])\n",
    "vector = tf.constant([5, 6, 2])\n",
    "matrix = tf.constant([[1, 2, 3], [2, 3, 4], [3, 4, 5]])\n",
    "tensor = tf.constant([ [[1,2,3],[2,3,4],[3,4,5]] , [[4,5,6],[5,6,7],[6,7,8]] , [[7,8,9],[8,9,10],[9,10,11]] ])\n",
    "\n",
    "with tf.Session() as session:\n",
    "    print session.run(scalar)\n",
    "    print session.run(vector)\n",
    "    print session.run(matrix)\n",
    "    print session.run(tensor)\n"
   ]
  },
  {
   "cell_type": "code",
   "execution_count": 10,
   "metadata": {
    "collapsed": false
   },
   "outputs": [
    {
     "name": "stdout",
     "output_type": "stream",
     "text": [
      "[[13 18]\n",
      " [18 25]]\n"
     ]
    }
   ],
   "source": [
    "# Mnożenie macierzy\n",
    "\n",
    "matrix_one = tf.constant([[2,3],[3,4]])\n",
    "matrix_second = tf.constant([[2,3],[3,4]])\n",
    "\n",
    "first_operation = tf.matmul(matrix_one, matrix_second)\n",
    "\n",
    "with tf.Session() as session:\n",
    "    print session.run(first_operation)"
   ]
  },
  {
   "cell_type": "code",
   "execution_count": 12,
   "metadata": {
    "collapsed": false
   },
   "outputs": [
    {
     "name": "stdout",
     "output_type": "stream",
     "text": [
      "0\n",
      "1\n",
      "2\n",
      "3\n"
     ]
    }
   ],
   "source": [
    "# Zmienne\n",
    "state = tf.Variable(0)\n",
    "one = tf.constant(1)\n",
    "new_value = tf.add(state, one)\n",
    "update = tf.assign(state, new_value)\n",
    "\n",
    "# Zmienne muszą zostać zainicjalizowane\n",
    "init_op = tf.global_variables_initializer()\n",
    "\n",
    "# Jeśli operacje pociągają za sobą inne, nie muszą być\n",
    "# explicite wywoływane w sesji np.\n",
    "# wywołujemy update, ale nie muaimy sami uruchamiać \n",
    "# new_value\n",
    "\n",
    "with tf.Session() as session:\n",
    "    session.run(init_op)\n",
    "    print session.run(state)\n",
    "    for _ in range(3):\n",
    "        session.run(update)\n",
    "        print session.run(state)\n",
    "    "
   ]
  },
  {
   "cell_type": "code",
   "execution_count": 14,
   "metadata": {
    "collapsed": false
   },
   "outputs": [
    {
     "name": "stdout",
     "output_type": "stream",
     "text": [
      "[[[  2.   4.   6.]\n",
      "  [  8.  10.  12.]\n",
      "  [ 14.  16.  18.]\n",
      "  [ 20.  22.  24.]]\n",
      "\n",
      " [[ 26.  28.  30.]\n",
      "  [ 32.  34.  36.]\n",
      "  [ 38.  40.  42.]\n",
      "  [ 44.  46.  48.]]]\n"
     ]
    }
   ],
   "source": [
    "# Jeśli chcemy użyć w modelu danych z zewnątrz, nieznanych \n",
    "# w momencie jego tworzenia, musimy użyć placeholderów\n",
    "\n",
    "# Tworzymy placeholder i określamy jego typ\n",
    "a = tf.placeholder(tf.float32)\n",
    "\n",
    "b = a * 2\n",
    "\n",
    "# Przy uruchamianiu sesji, musimy nakarmić nasz model \n",
    "# potrzebnymi mu danymi\n",
    "\n",
    "dictionary={a: [ [ [1,2,3],[4,5,6],[7,8,9],[10,11,12] ] , [ [13,14,15],[16,17,18],[19,20,21],[22,23,24] ] ] }\n",
    "\n",
    "\n",
    "with tf.Session() as session:\n",
    "    #result = session.run(b, feed_dict={a: 3.5})\n",
    "    result = session.run(b, feed_dict=dictionary)\n",
    "    print result\n"
   ]
  },
  {
   "cell_type": "code",
   "execution_count": 15,
   "metadata": {
    "collapsed": false
   },
   "outputs": [
    {
     "name": "stdout",
     "output_type": "stream",
     "text": [
      "c: [7]\n",
      "d: [3]\n"
     ]
    }
   ],
   "source": [
    "# Operacje\n",
    "\n",
    "a = tf.constant([5])\n",
    "b = tf.constant([2])\n",
    "c = tf.add(a, b)\n",
    "d = tf.sub(a, b)\n",
    "\n",
    "with tf.Session() as session:\n",
    "    print \"c:\", session.run(c)\n",
    "    print \"d:\", session.run(d)"
   ]
  }
 ],
 "metadata": {
  "kernelspec": {
   "display_name": "Python 2",
   "language": "python",
   "name": "python2"
  },
  "language_info": {
   "codemirror_mode": {
    "name": "ipython",
    "version": 2
   },
   "file_extension": ".py",
   "mimetype": "text/x-python",
   "name": "python",
   "nbconvert_exporter": "python",
   "pygments_lexer": "ipython2",
   "version": "2.7.6"
  }
 },
 "nbformat": 4,
 "nbformat_minor": 0
}
