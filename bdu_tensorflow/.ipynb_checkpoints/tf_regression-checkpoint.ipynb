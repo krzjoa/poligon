{
 "cells": [
  {
   "cell_type": "markdown",
   "metadata": {},
   "source": [
    "# Tensorflow regression"
   ]
  },
  {
   "cell_type": "code",
   "execution_count": 1,
   "metadata": {
    "collapsed": false
   },
   "outputs": [],
   "source": [
    "import tensorflow as tf\n",
    "import pandas as pd\n",
    "import numpy as np\n",
    "import time\n",
    "from sklearn.datasets import load_iris\n",
    "from sklearn.model_selection import train_test_split\n",
    "import matplotlib.pyplot as plt"
   ]
  },
  {
   "cell_type": "code",
   "execution_count": 2,
   "metadata": {
    "collapsed": true
   },
   "outputs": [],
   "source": [
    "iris = load_iris()\n",
    "iris_X, iris_y = iris.data[:-1, :], iris.target[:-1]\n",
    "iris_y = pd.get_dummies(iris_y).values\n",
    "trainX, testX, trainY, testY = train_test_split(iris_X, iris_y, test_size=0.33)"
   ]
  },
  {
   "cell_type": "code",
   "execution_count": 3,
   "metadata": {
    "collapsed": true
   },
   "outputs": [],
   "source": [
    "# Liczba ficzerów\n",
    "n_features = trainX.shape[1]\n",
    "\n",
    "# Liczba etykiet\n",
    "n_labels = trainY.shape[1]\n",
    "\n",
    "# Placeholders\n",
    "X = tf.placeholder(tf.float32, [None, n_features])\n",
    "yGold = tf.placeholder(tf.float32, [None, n_labels])"
   ]
  },
  {
   "cell_type": "code",
   "execution_count": 4,
   "metadata": {
    "collapsed": true
   },
   "outputs": [],
   "source": [
    "# Macierz wag \n",
    "W = tf.Variable(tf.zeros([4, 3]))\n",
    "# Wektor biasu\n",
    "b = tf.Variable(tf.zeros([3]))"
   ]
  },
  {
   "cell_type": "code",
   "execution_count": 5,
   "metadata": {
    "collapsed": true
   },
   "outputs": [],
   "source": [
    "weights = tf.Variable(tf.random_normal([n_features, n_labels],\n",
    "                                        mean=0,\n",
    "                                        stddev=0.01,\n",
    "                                        name='weights'))\n",
    "\n",
    "bias = tf.Variable(tf.random_normal([1, n_labels],\n",
    "                                        mean=0,\n",
    "                                        stddev=0.01,\n",
    "                                        name='bias'))"
   ]
  },
  {
   "cell_type": "code",
   "execution_count": 6,
   "metadata": {
    "collapsed": true
   },
   "outputs": [],
   "source": [
    "# Przemnożenie wejścia przez macierz wag\n",
    "apply_weights_OP = tf.matmul(X, weights, name=\"apply_weights\")\n",
    "# Dodanie biasu\n",
    "add_bias_OP = tf.add(apply_weights_OP, bias, name='add_bias')\n",
    "# Zaaplikowanie funkcji aktywacji\n",
    "activation_OP = tf.nn.sigmoid(add_bias_OP, name='activation')"
   ]
  },
  {
   "cell_type": "markdown",
   "metadata": {
    "collapsed": true
   },
   "source": [
    "## Trenowanie"
   ]
  },
  {
   "cell_type": "code",
   "execution_count": 8,
   "metadata": {
    "collapsed": false
   },
   "outputs": [],
   "source": [
    "# Liczba epok\n",
    "n_epochs = 700\n",
    "\n",
    "# Learning rate\n",
    "lr = tf.train.exponential_decay(learning_rate=0.0008,\n",
    "                               global_step=1,\n",
    "                               decay_steps=trainX.shape[0], # Tyle kroków, ile przykładów\n",
    "                               decay_rate = 0.95,\n",
    "                               staircase=True) "
   ]
  },
  {
   "cell_type": "code",
   "execution_count": 9,
   "metadata": {
    "collapsed": true
   },
   "outputs": [],
   "source": [
    "cost_OP = tf.nn.l2_loss(activation_OP-yGold, name='sq_er_cost')\n",
    "\n",
    "# Minimalizowanie funkcji kosztu z użyciem Gradient Descent\n",
    "training_OP = tf.train.GradientDescentOptimizer(lr).minimize(cost_OP)"
   ]
  },
  {
   "cell_type": "code",
   "execution_count": 14,
   "metadata": {
    "collapsed": false
   },
   "outputs": [],
   "source": [
    "# Inicjalizacja sesji\n",
    "session = tf.Session()\n",
    "\n",
    "# Inicjalizacja zmiennych \n",
    "init_op = tf.initialize_all_variables()\n",
    "session.run(init_op)"
   ]
  },
  {
   "cell_type": "code",
   "execution_count": 13,
   "metadata": {
    "collapsed": true
   },
   "outputs": [],
   "source": [
    "# Kontrola działania modelu\n",
    "# Sprawdzamy, czy najbardziej prawdopodobna predykcja jest taka sama jak \n",
    "# prawidłowa odpowiedź\n",
    "correct_predictions_OP = tf.equal(tf.argmax(activation_OP, 1), tf.argmax(yGold, 1))\n",
    "\n",
    "accuracy_OP = tf.reduce_mean(tf.cast(correct_predictions_OP, \"float\"))\n",
    "\n",
    "# Summary op for regression output\n",
    "activation_summary_OP = tf.summary.histogram(\"output\", activation_OP)\n",
    "\n",
    "accuracy_summary_OP = tf.summary.histogram(\"accuracy\", accuracy_OP)\n",
    "\n",
    "# Podsumowanie wartości funkcji kosztu\n",
    "cost_summary_OP = tf.summary.scalar(\"cost\", cost_OP)\n",
    "\n",
    "# Update zmiennych (Wag i biasu)\n",
    "weightSummary = tf.summary.histogram(\"weights\", weights.eval(session=session))\n",
    "biasSummary = tf.summary.histogram(\"biases\", bias.eval(session=session))\n",
    "\n",
    "# Merdżowanie posumowań\n",
    "merged = tf.summary.merge([activation_summary_OP, accuracy_summary_OP, cost_summary_OP, weightSummary, biasSummary])\n",
    "\n",
    "# Zapisywanie\n",
    "writer = tf.summary.FileWriter(\"summary_logs\", session.graph)\n",
    "\n",
    "\n",
    "\n",
    "\n",
    "\n"
   ]
  },
  {
   "cell_type": "code",
   "execution_count": null,
   "metadata": {
    "collapsed": true
   },
   "outputs": [],
   "source": []
  }
 ],
 "metadata": {
  "kernelspec": {
   "display_name": "Python 2",
   "language": "python",
   "name": "python2"
  },
  "language_info": {
   "codemirror_mode": {
    "name": "ipython",
    "version": 2
   },
   "file_extension": ".py",
   "mimetype": "text/x-python",
   "name": "python",
   "nbconvert_exporter": "python",
   "pygments_lexer": "ipython2",
   "version": "2.7.6"
  }
 },
 "nbformat": 4,
 "nbformat_minor": 0
}
